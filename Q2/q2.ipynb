{
 "cells": [
  {
   "cell_type": "code",
   "execution_count": 1,
   "id": "9c4fc141",
   "metadata": {},
   "outputs": [
    {
     "name": "stdout",
     "output_type": "stream",
     "text": [
      "*** Annual Temperature Report for Seoul in 2022 ***\n",
      "Day with the Largest Temperature Variation: 2022-11-29\n",
      "Maximum Temperature Difference: 16.6 Celcius\n",
      "Day with the Smallest Temperature Variation: 2022-06-29\n",
      "Minimum Temperature Difference: 1.7 Celcius\n"
     ]
    }
   ],
   "source": [
    "#q2\n",
    "import csv\n",
    "\n",
    "def main():\n",
    "    f=open('q2.csv')\n",
    "    data=csv.reader(f,delimiter=',')\n",
    "    header=next(data)\n",
    "    max=0\n",
    "    min=999\n",
    "    maxdate=''\n",
    "    mindate=''\n",
    "    for row in data:\n",
    "        if (row[3]!='')and(row[4]!=''):\n",
    "            row[3]=float(row[3])\n",
    "            row[4]=float(row[4])\n",
    "            if(row[4]-row[3]>max):\n",
    "                max=row[4]-row[3]\n",
    "                maxdate=row[0]\n",
    "            if(row[4]-row[3]<min):\n",
    "                min=row[4]-row[3]\n",
    "                mindate=row[0]\n",
    "    print(\"*** Annual Temperature Report for Seoul in 2022 ***\")\n",
    "    print(\"Day with the Largest Temperature Variation:\",maxdate)\n",
    "    print(\"Maximum Temperature Difference: {0:.1f} Celcius\".format(max))\n",
    "    print(\"Day with the Smallest Temperature Variation:\",mindate)\n",
    "    print(\"Minimum Temperature Difference: {0:.1f} Celcius\".format(min))\n",
    "    \n",
    "if __name__==\"__main__\":\n",
    "    main()"
   ]
  },
  {
   "cell_type": "code",
   "execution_count": null,
   "id": "d6a592d1",
   "metadata": {},
   "outputs": [],
   "source": []
  }
 ],
 "metadata": {
  "kernelspec": {
   "display_name": "Python 3 (ipykernel)",
   "language": "python",
   "name": "python3"
  },
  "language_info": {
   "codemirror_mode": {
    "name": "ipython",
    "version": 3
   },
   "file_extension": ".py",
   "mimetype": "text/x-python",
   "name": "python",
   "nbconvert_exporter": "python",
   "pygments_lexer": "ipython3",
   "version": "3.11.2"
  }
 },
 "nbformat": 4,
 "nbformat_minor": 5
}
