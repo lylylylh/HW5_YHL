{
 "cells": [
  {
   "cell_type": "code",
   "execution_count": 1,
   "id": "c631c219",
   "metadata": {},
   "outputs": [
    {
     "name": "stdout",
     "output_type": "stream",
     "text": [
      "*** Subway Report for Seoul on March 2023 ***\n",
      "Line 1:\n",
      "Busiest Station: 서울역 (3084227)\n",
      "Least used Station: 동묘앞 (658566)\n",
      "Line 2:\n",
      "Busiest Station: 강남 (4690366)\n",
      "Least used Station: 도림천 (80084)\n",
      "Line 3:\n",
      "Busiest Station: 고속터미널 (2886887)\n",
      "Least used Station: 충무로 (48)\n",
      "Line 4:\n",
      "Busiest Station: 혜화 (2286709)\n",
      "Least used Station: 남태령 (79916)\n"
     ]
    }
   ],
   "source": [
    "#q4\n",
    "import csv\n",
    "\n",
    "def main():\n",
    "    f=open('q4.csv')\n",
    "    data=csv.reader(f,delimiter=',')\n",
    "    header=next(data)\n",
    "    max=[0,0,0,0]\n",
    "    min=[99999999,99999999,99999999,99999999]\n",
    "    maxs=[' ',' ',' ',' ']\n",
    "    mins=[' ',' ',' ',' ']\n",
    "    for row in data:\n",
    "        row[4]=int(row[4])\n",
    "        row[5]=int(row[5])\n",
    "        if row[1]=='1호선':\n",
    "            if max[0]<row[4]+row[5]:\n",
    "                max[0]=row[4]+row[5]\n",
    "                maxs[0]=row[3]\n",
    "            elif min[0]>row[4]+row[5]:\n",
    "                min[0]=row[4]+row[5]\n",
    "                mins[0]=row[3]\n",
    "        if row[1]=='2호선':\n",
    "            if max[1]<row[4]+row[5]:\n",
    "                max[1]=row[4]+row[5]\n",
    "                maxs[1]=row[3]\n",
    "            elif min[1]>row[4]+row[5]:\n",
    "                min[1]=row[4]+row[5]\n",
    "                mins[1]=row[3]\n",
    "        if row[1]=='3호선':\n",
    "            if max[2]<row[4]+row[5]:\n",
    "                max[2]=row[4]+row[5]\n",
    "                maxs[2]=row[3]\n",
    "            elif min[2]>row[4]+row[5]:\n",
    "                min[2]=row[4]+row[5]\n",
    "                mins[2]=row[3]\n",
    "        if row[1]=='4호선':\n",
    "            if max[3]<row[4]+row[5]:\n",
    "                max[3]=row[4]+row[5]\n",
    "                maxs[3]=row[3]\n",
    "            elif min[3]>row[4]+row[5]:\n",
    "                min[3]=row[4]+row[5]\n",
    "                mins[3]=row[3]\n",
    "                \n",
    "    print(\"*** Subway Report for Seoul on March 2023 ***\")\n",
    "    print(\"Line 1:\")\n",
    "    print(\"Busiest Station: {0:s} ({1:d})\".format(maxs[0],max[0]))\n",
    "    print(\"Least used Station: {0:s} ({1:d})\".format(mins[0],min[0]))\n",
    "    print(\"Line 2:\")\n",
    "    print(\"Busiest Station: {0:s} ({1:d})\".format(maxs[1],max[1]))\n",
    "    print(\"Least used Station: {0:s} ({1:d})\".format(mins[1],min[1]))\n",
    "    print(\"Line 3:\")\n",
    "    print(\"Busiest Station: {0:s} ({1:d})\".format(maxs[2],max[2]))\n",
    "    print(\"Least used Station: {0:s} ({1:d})\".format(mins[2],min[2]))\n",
    "    print(\"Line 4:\")\n",
    "    print(\"Busiest Station: {0:s} ({1:d})\".format(maxs[3],max[3]))\n",
    "    print(\"Least used Station: {0:s} ({1:d})\".format(mins[3],min[3]))\n",
    "            \n",
    "if __name__==\"__main__\":\n",
    "    main()    "
   ]
  },
  {
   "cell_type": "code",
   "execution_count": null,
   "id": "635100ee",
   "metadata": {},
   "outputs": [],
   "source": []
  }
 ],
 "metadata": {
  "kernelspec": {
   "display_name": "Python 3 (ipykernel)",
   "language": "python",
   "name": "python3"
  },
  "language_info": {
   "codemirror_mode": {
    "name": "ipython",
    "version": 3
   },
   "file_extension": ".py",
   "mimetype": "text/x-python",
   "name": "python",
   "nbconvert_exporter": "python",
   "pygments_lexer": "ipython3",
   "version": "3.11.2"
  }
 },
 "nbformat": 4,
 "nbformat_minor": 5
}
