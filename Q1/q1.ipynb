{
 "cells": [
  {
   "cell_type": "code",
   "execution_count": 1,
   "id": "1d3b54ce",
   "metadata": {},
   "outputs": [
    {
     "name": "stdout",
     "output_type": "stream",
     "text": [
      "*** Annual Temperature Report for Seoul in 2022 ***\n",
      "Average Temperature: 13.26 Celsius\n",
      "Average Minimum Temperature: 9.21 Celsius\n",
      "Average MaximumTemperature: 18.05 Celsius\n"
     ]
    }
   ],
   "source": [
    "#q1\n",
    "import csv\n",
    "\n",
    "def main():\n",
    "    f=open('q1.csv')\n",
    "    data=csv.reader(f,delimiter=',')\n",
    "    header=next(data)\n",
    "    sumtemp=0.0\n",
    "    summin=0.0\n",
    "    summax=0.0\n",
    "    i=0\n",
    "    for row in data:\n",
    "        if (row[2]!='')and(row[3]!='')and(row[4]!=''):  \n",
    "            row[2]=float(row[2])\n",
    "            row[3]=float(row[3])\n",
    "            row[4]=float(row[4])\n",
    "            sumtemp+=row[2]\n",
    "            summin+=row[3]\n",
    "            summax+=row[4]\n",
    "            i+=1\n",
    "    avetemp=sumtemp/i\n",
    "    avemin=summin/i\n",
    "    avemax=summax/i\n",
    "\n",
    "    print(\"*** Annual Temperature Report for Seoul in 2022 ***\")\n",
    "    print(\"Average Temperature: {0:.2f} Celsius\".format(avetemp))\n",
    "    print(\"Average Minimum Temperature: {0:.2f} Celsius\".format(avemin))\n",
    "    print(\"Average MaximumTemperature: {0:.2f} Celsius\".format(avemax))\n",
    "    \n",
    "if __name__==\"__main__\":\n",
    "    main()"
   ]
  },
  {
   "cell_type": "code",
   "execution_count": null,
   "id": "5dc0199c",
   "metadata": {},
   "outputs": [],
   "source": []
  }
 ],
 "metadata": {
  "kernelspec": {
   "display_name": "Python 3 (ipykernel)",
   "language": "python",
   "name": "python3"
  },
  "language_info": {
   "codemirror_mode": {
    "name": "ipython",
    "version": 3
   },
   "file_extension": ".py",
   "mimetype": "text/x-python",
   "name": "python",
   "nbconvert_exporter": "python",
   "pygments_lexer": "ipython3",
   "version": "3.11.2"
  }
 },
 "nbformat": 4,
 "nbformat_minor": 5
}
