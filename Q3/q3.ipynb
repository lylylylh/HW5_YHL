{
 "cells": [
  {
   "cell_type": "code",
   "execution_count": 1,
   "id": "8ed19258",
   "metadata": {},
   "outputs": [
    {
     "name": "stdout",
     "output_type": "stream",
     "text": [
      "*** Subway Report for Seoul on March 2023 ***\n",
      "1st Busiest Line: 2호선 (85620512)\n",
      "2nd Busiest Line: 5호선 (39671990)\n",
      "1st Least used Line: 8호선 (11863928)\n",
      "2nd Least used Line: 9호선 (16985648)\n"
     ]
    }
   ],
   "source": [
    "#q3\n",
    "import csv\n",
    "\n",
    "def main():\n",
    "    f=open('q3.csv')\n",
    "    data=csv.reader(f,delimiter=',')\n",
    "    header=next(data)\n",
    "    d=dict()\n",
    "    key=d.keys()\n",
    "    for row in data:\n",
    "        y=0\n",
    "        row[4]=int(row[4])\n",
    "        row[5]=int(row[5])\n",
    "        for k in key:\n",
    "            if(k==row[1]):\n",
    "                d[k]+=(row[4]+row[5])\n",
    "                y=1\n",
    "        if(y==0):\n",
    "            d[row[1]]=(row[4]+row[5])\n",
    "    max=0 \n",
    "    max2=1\n",
    "    min=99999999\n",
    "    min2=99999998\n",
    "    \n",
    "    for k in key:\n",
    "        if d[k]>max:\n",
    "            max=d[k]\n",
    "            maxline=k\n",
    "        elif d[k]>max2:\n",
    "            max2=d[k]\n",
    "            max2line=k\n",
    "        elif d[k]<min:\n",
    "            min=d[k]\n",
    "            minline=k\n",
    "        elif d[k]<min2:\n",
    "            min2=d[k]\n",
    "            min2line=k\n",
    "      \n",
    "    print(\"*** Subway Report for Seoul on March 2023 ***\")\n",
    "    print(\"1st Busiest Line: {0:s} ({1:d})\".format(maxline,max))\n",
    "    print(\"2nd Busiest Line: {0:s} ({1:d})\".format(max2line,max2))\n",
    "    print(\"1st Least used Line: {0:s} ({1:d})\".format(minline,min))\n",
    "    print(\"2nd Least used Line: {0:s} ({1:d})\".format(min2line,min2))\n",
    "    \n",
    "if __name__==\"__main__\":\n",
    "    main()    "
   ]
  },
  {
   "cell_type": "code",
   "execution_count": null,
   "id": "bc60be88",
   "metadata": {},
   "outputs": [],
   "source": []
  }
 ],
 "metadata": {
  "kernelspec": {
   "display_name": "Python 3 (ipykernel)",
   "language": "python",
   "name": "python3"
  },
  "language_info": {
   "codemirror_mode": {
    "name": "ipython",
    "version": 3
   },
   "file_extension": ".py",
   "mimetype": "text/x-python",
   "name": "python",
   "nbconvert_exporter": "python",
   "pygments_lexer": "ipython3",
   "version": "3.11.2"
  }
 },
 "nbformat": 4,
 "nbformat_minor": 5
}
